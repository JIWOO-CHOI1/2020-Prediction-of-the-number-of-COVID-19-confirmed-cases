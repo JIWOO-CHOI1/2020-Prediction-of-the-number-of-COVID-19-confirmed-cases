{
 "cells": [
  {
   "cell_type": "code",
   "execution_count": 1,
   "metadata": {
    "collapsed": true
   },
   "outputs": [],
   "source": [
    "# 라이브러리 불러오기\n",
    "\n",
    "import pandas as pd\n",
    "import numpy as np\n",
    "import tensorflow as tf\n",
    "from sklearn import preprocessing\n",
    "import pickle\n",
    "import tensorflow_hub as hub\n",
    "from tensorflow.keras.layers import LSTM\n",
    "\n",
    "%matplotlib inline\n",
    "import matplotlib.pyplot as plt"
   ]
  },
  {
   "cell_type": "code",
   "execution_count": 1061,
   "metadata": {
    "collapsed": true
   },
   "outputs": [],
   "source": [
    "# 데이터 불러오기 \n",
    "data_final= pd.read_excel('C:/Users/dnjsw/Desktop/final_data.xlsx')"
   ]
  },
  {
   "cell_type": "code",
   "execution_count": 1024,
   "metadata": {
    "scrolled": true
   },
   "outputs": [
    {
     "data": {
      "text/html": [
       "<div>\n",
       "<style>\n",
       "    .dataframe thead tr:only-child th {\n",
       "        text-align: right;\n",
       "    }\n",
       "\n",
       "    .dataframe thead th {\n",
       "        text-align: left;\n",
       "    }\n",
       "\n",
       "    .dataframe tbody tr th {\n",
       "        vertical-align: top;\n",
       "    }\n",
       "</style>\n",
       "<table border=\"1\" class=\"dataframe\">\n",
       "  <thead>\n",
       "    <tr style=\"text-align: right;\">\n",
       "      <th></th>\n",
       "      <th>구</th>\n",
       "      <th>확진자수</th>\n",
       "    </tr>\n",
       "  </thead>\n",
       "  <tbody>\n",
       "    <tr>\n",
       "      <th>23</th>\n",
       "      <td>중구</td>\n",
       "      <td>110</td>\n",
       "    </tr>\n",
       "    <tr>\n",
       "      <th>22</th>\n",
       "      <td>종로구</td>\n",
       "      <td>115</td>\n",
       "    </tr>\n",
       "    <tr>\n",
       "      <th>7</th>\n",
       "      <td>금천구</td>\n",
       "      <td>124</td>\n",
       "    </tr>\n",
       "    <tr>\n",
       "      <th>5</th>\n",
       "      <td>광진구</td>\n",
       "      <td>185</td>\n",
       "    </tr>\n",
       "    <tr>\n",
       "      <th>2</th>\n",
       "      <td>강북구</td>\n",
       "      <td>199</td>\n",
       "    </tr>\n",
       "    <tr>\n",
       "      <th>15</th>\n",
       "      <td>성동구</td>\n",
       "      <td>220</td>\n",
       "    </tr>\n",
       "    <tr>\n",
       "      <th>20</th>\n",
       "      <td>용산구</td>\n",
       "      <td>226</td>\n",
       "    </tr>\n",
       "    <tr>\n",
       "      <th>13</th>\n",
       "      <td>서대문구</td>\n",
       "      <td>257</td>\n",
       "    </tr>\n",
       "    <tr>\n",
       "      <th>1</th>\n",
       "      <td>강동구</td>\n",
       "      <td>273</td>\n",
       "    </tr>\n",
       "    <tr>\n",
       "      <th>6</th>\n",
       "      <td>구로구</td>\n",
       "      <td>275</td>\n",
       "    </tr>\n",
       "    <tr>\n",
       "      <th>12</th>\n",
       "      <td>마포구</td>\n",
       "      <td>292</td>\n",
       "    </tr>\n",
       "    <tr>\n",
       "      <th>24</th>\n",
       "      <td>중랑구</td>\n",
       "      <td>292</td>\n",
       "    </tr>\n",
       "    <tr>\n",
       "      <th>19</th>\n",
       "      <td>영등포구</td>\n",
       "      <td>308</td>\n",
       "    </tr>\n",
       "    <tr>\n",
       "      <th>10</th>\n",
       "      <td>동대문구</td>\n",
       "      <td>311</td>\n",
       "    </tr>\n",
       "    <tr>\n",
       "      <th>18</th>\n",
       "      <td>양천구</td>\n",
       "      <td>315</td>\n",
       "    </tr>\n",
       "    <tr>\n",
       "      <th>9</th>\n",
       "      <td>도봉구</td>\n",
       "      <td>319</td>\n",
       "    </tr>\n",
       "    <tr>\n",
       "      <th>21</th>\n",
       "      <td>은평구</td>\n",
       "      <td>354</td>\n",
       "    </tr>\n",
       "    <tr>\n",
       "      <th>11</th>\n",
       "      <td>동작구</td>\n",
       "      <td>387</td>\n",
       "    </tr>\n",
       "    <tr>\n",
       "      <th>16</th>\n",
       "      <td>성북구</td>\n",
       "      <td>461</td>\n",
       "    </tr>\n",
       "    <tr>\n",
       "      <th>14</th>\n",
       "      <td>서초구</td>\n",
       "      <td>468</td>\n",
       "    </tr>\n",
       "    <tr>\n",
       "      <th>8</th>\n",
       "      <td>노원구</td>\n",
       "      <td>470</td>\n",
       "    </tr>\n",
       "    <tr>\n",
       "      <th>0</th>\n",
       "      <td>강남구</td>\n",
       "      <td>512</td>\n",
       "    </tr>\n",
       "    <tr>\n",
       "      <th>4</th>\n",
       "      <td>관악구</td>\n",
       "      <td>544</td>\n",
       "    </tr>\n",
       "    <tr>\n",
       "      <th>17</th>\n",
       "      <td>송파구</td>\n",
       "      <td>599</td>\n",
       "    </tr>\n",
       "    <tr>\n",
       "      <th>3</th>\n",
       "      <td>강서구</td>\n",
       "      <td>606</td>\n",
       "    </tr>\n",
       "  </tbody>\n",
       "</table>\n",
       "</div>"
      ],
      "text/plain": [
       "       구  확진자수\n",
       "23    중구   110\n",
       "22   종로구   115\n",
       "7    금천구   124\n",
       "5    광진구   185\n",
       "2    강북구   199\n",
       "15   성동구   220\n",
       "20   용산구   226\n",
       "13  서대문구   257\n",
       "1    강동구   273\n",
       "6    구로구   275\n",
       "12   마포구   292\n",
       "24   중랑구   292\n",
       "19  영등포구   308\n",
       "10  동대문구   311\n",
       "18   양천구   315\n",
       "9    도봉구   319\n",
       "21   은평구   354\n",
       "11   동작구   387\n",
       "16   성북구   461\n",
       "14   서초구   468\n",
       "8    노원구   470\n",
       "0    강남구   512\n",
       "4    관악구   544\n",
       "17   송파구   599\n",
       "3    강서구   606"
      ]
     },
     "execution_count": 1024,
     "metadata": {},
     "output_type": "execute_result"
    }
   ],
   "source": [
    "# 구별 확진자수 확인하기 \n",
    "data_final.groupby(['구'])['확진자수'].sum().reset_index().sort_values(by='확진자수')"
   ]
  },
  {
   "cell_type": "code",
   "execution_count": 1063,
   "metadata": {},
   "outputs": [],
   "source": [
    "# 구별로 모델을 돌리기위해 구별로 정리된 dataframe 생성\n",
    "\n",
    "중구 = data_final[data_final['구'] == '중구'].reset_index(drop=True)\n",
    "구로구 = data_final[data_final['구'] == '구로구'].reset_index(drop=True)\n",
    "서대문구 = data_final[data_final['구'] == '서대문구'].reset_index(drop=True)\n",
    "성동구 = data_final[data_final['구'] == '성동구'].reset_index(drop=True)\n",
    "송파구 = data_final[data_final['구'] == '송파구'].reset_index(drop=True)\n",
    "용산구 = data_final[data_final['구'] == '용산구'].reset_index(drop=True)\n",
    "성북구 = data_final[data_final['구'] == '성북구'].reset_index(drop=True)\n",
    "영등포구 = data_final[data_final['구'] == '영등포구'].reset_index(drop=True)\n",
    "동작구 = data_final[data_final['구'] == '동작구'].reset_index(drop=True)\n",
    "중랑구 = data_final[data_final['구'] == '중랑구'].reset_index(drop=True)\n",
    "노원구 = data_final[data_final['구'] == '노원구'].reset_index(drop=True)\n",
    "양천구 = data_final[data_final['구'] == '양천구'].reset_index(drop=True)\n",
    "강남구 = data_final[data_final['구'] == '강남구'].reset_index(drop=True)\n",
    "강서구 = data_final[data_final['구'] == '강서구'].reset_index(drop=True)\n",
    "관악구 = data_final[data_final['구'] == '관악구'].reset_index(drop=True)\n",
    "강동구 = data_final[data_final['구'] == '강동구'].reset_index(drop=True)\n",
    "은평구 = data_final[data_final['구'] == '은평구'].reset_index(drop=True)\n",
    "마포구 = data_final[data_final['구'] == '마포구'].reset_index(drop=True)\n",
    "도봉구 = data_final[data_final['구'] == '도봉구'].reset_index(drop=True)\n",
    "종로구 = data_final[data_final['구'] == '종로구'].reset_index(drop=True)\n",
    "서초구 = data_final[data_final['구'] == '서초구'].reset_index(drop=True)\n",
    "동대문구 = data_final[data_final['구'] == '동대문구'].reset_index(drop=True)\n",
    "강북구 = data_final[data_final['구'] == '강북구'].reset_index(drop=True)\n",
    "광진구 = data_final[data_final['구'] == '광진구'].reset_index(drop=True)\n",
    "금천구 = data_final[data_final['구'] == '금천구'].reset_index(drop=True)"
   ]
  },
  {
   "cell_type": "markdown",
   "metadata": {},
   "source": [
    "# 분석할 구 설정"
   ]
  },
  {
   "cell_type": "code",
   "execution_count": 1344,
   "metadata": {
    "collapsed": true
   },
   "outputs": [],
   "source": [
    "# 분석할 구를 data로 지정한 후 data를 분석에 사용 \n",
    "data = 강북구"
   ]
  },
  {
   "cell_type": "markdown",
   "metadata": {},
   "source": [
    "# 전처리"
   ]
  },
  {
   "cell_type": "code",
   "execution_count": 1345,
   "metadata": {},
   "outputs": [],
   "source": [
    "# 구 컬럼 삭제\n",
    "del data['구']"
   ]
  },
  {
   "cell_type": "code",
   "execution_count": 1346,
   "metadata": {},
   "outputs": [],
   "source": [
    "# 종속변수를 확진자수로 설정 \n",
    "y_data = data.pop('확진자수')"
   ]
  },
  {
   "cell_type": "code",
   "execution_count": 1347,
   "metadata": {
    "collapsed": true
   },
   "outputs": [],
   "source": [
    "# 데이터 정규화 \n",
    "\n",
    "data = (data - data.mean())/data_final.std()"
   ]
  },
  {
   "cell_type": "code",
   "execution_count": 1348,
   "metadata": {
    "collapsed": true
   },
   "outputs": [],
   "source": [
    "# 독립변수 설정 \n",
    "x_data = data[[ '유동인구수', '코로나', '사회적거리두기', '우울', '소매점_여가시설',\n",
    "       '식료품점_약국', '공원', '대중교통정거장', '직장', '주거지']].values"
   ]
  },
  {
   "cell_type": "code",
   "execution_count": 1349,
   "metadata": {
    "collapsed": true
   },
   "outputs": [],
   "source": [
    "y_data = pd.DataFrame(y_data)"
   ]
  },
  {
   "cell_type": "code",
   "execution_count": 1350,
   "metadata": {
    "collapsed": true
   },
   "outputs": [],
   "source": [
    "y_data = y_data.values"
   ]
  },
  {
   "cell_type": "markdown",
   "metadata": {},
   "source": [
    "# 데이터 shape 맞추기"
   ]
  },
  {
   "cell_type": "code",
   "execution_count": 1351,
   "metadata": {
    "collapsed": true
   },
   "outputs": [],
   "source": [
    "def multivariate_data(dataset, target, start_index, end_index, history_size,\n",
    "                      target_size, step, single_step=False):\n",
    "    data = []\n",
    "    labels = []\n",
    "\n",
    "    start_index = start_index + history_size\n",
    "    if end_index is None:\n",
    "        end_index = len(dataset) - target_size\n",
    "\n",
    "    for i in range(start_index, end_index):\n",
    "        indices = range(i-history_size, i, step)\n",
    "        data.append(dataset[indices])\n",
    "\n",
    "        if single_step:\n",
    "            labels.append(target[i+target_size])\n",
    "        else:\n",
    "            labels.append(target[i:i+target_size])\n",
    "\n",
    "    return np.array(data), np.array(labels)"
   ]
  },
  {
   "cell_type": "code",
   "execution_count": 1352,
   "metadata": {
    "collapsed": true
   },
   "outputs": [],
   "source": [
    "# Train 데이터셋 \n",
    "# 2일치의 데이터를 보고 다음날의 확진자 수를 예측\n",
    "x_tr, y_tr = multivariate_data(x_data, y_data, 0,258, 2, 1, 1, single_step=True)"
   ]
  },
  {
   "cell_type": "code",
   "execution_count": 1353,
   "metadata": {
    "collapsed": true
   },
   "outputs": [],
   "source": [
    "# Test 데이터셋 \n",
    "x_te, y_te = multivariate_data(x_data, y_data, 258,None , 2, 1, 1, single_step=True)"
   ]
  },
  {
   "cell_type": "code",
   "execution_count": 1354,
   "metadata": {},
   "outputs": [
    {
     "data": {
      "text/plain": [
       "(256, 2, 10)"
      ]
     },
     "execution_count": 1354,
     "metadata": {},
     "output_type": "execute_result"
    }
   ],
   "source": [
    "x_tr.shape"
   ]
  },
  {
   "cell_type": "code",
   "execution_count": 1355,
   "metadata": {},
   "outputs": [
    {
     "data": {
      "text/plain": [
       "(256, 1)"
      ]
     },
     "execution_count": 1355,
     "metadata": {},
     "output_type": "execute_result"
    }
   ],
   "source": [
    "y_tr.shape"
   ]
  },
  {
   "cell_type": "code",
   "execution_count": 1356,
   "metadata": {
    "collapsed": true
   },
   "outputs": [],
   "source": [
    "y_tr = tf.constant(y_tr, dtype = tf.float64)\n",
    "y_te = tf.constant(y_te, dtype = tf.float64)"
   ]
  },
  {
   "cell_type": "code",
   "execution_count": 1357,
   "metadata": {
    "collapsed": true
   },
   "outputs": [],
   "source": [
    "def gen():\n",
    "    for i in zip(x_tr,y_tr):\n",
    "        yield i"
   ]
  },
  {
   "cell_type": "code",
   "execution_count": 1358,
   "metadata": {
    "collapsed": true
   },
   "outputs": [],
   "source": [
    "m = tf.data.Dataset.from_generator(gen, output_shapes=(tf.TensorShape([None,None]),tf.TensorShape([None])), \n",
    "                                   output_types=(tf.float64, tf.float64))"
   ]
  },
  {
   "cell_type": "code",
   "execution_count": 1359,
   "metadata": {
    "collapsed": true
   },
   "outputs": [],
   "source": [
    "pad_batch = m.batch(7)"
   ]
  },
  {
   "cell_type": "code",
   "execution_count": 1360,
   "metadata": {
    "scrolled": true
   },
   "outputs": [
    {
     "data": {
      "text/plain": [
       "(<tf.Tensor: id=12035211, shape=(7, 2, 10), dtype=float64, numpy=\n",
       " array([[[ 2.38669362e-01,  3.73618379e+00, -4.78560123e-01,\n",
       "          -1.82029867e+00, -2.59298319e+00, -1.02590360e+00,\n",
       "          -1.82724712e+00, -2.75210226e+00, -5.44845267e-01,\n",
       "           1.78450022e+00],\n",
       "         [ 1.40944983e-02,  5.07840674e+00, -4.60580808e-01,\n",
       "          -1.26974185e+00, -7.84897076e-01, -4.10136708e-01,\n",
       "          -7.53855329e-01, -1.02257011e+00,  4.48913143e-02,\n",
       "           1.20790463e+00]],\n",
       " \n",
       "        [[ 1.40944983e-02,  5.07840674e+00, -4.60580808e-01,\n",
       "          -1.26974185e+00, -7.84897076e-01, -4.10136708e-01,\n",
       "          -7.53855329e-01, -1.02257011e+00,  4.48913143e-02,\n",
       "           1.20790463e+00],\n",
       "         [-1.50673636e-03,  4.40211151e+00, -4.49837322e-01,\n",
       "          -1.15342702e+00, -4.83549390e-01, -1.02590360e+00,\n",
       "          -1.07587287e+00, -8.06378586e-01,  4.48913143e-02,\n",
       "           9.19606836e-01]],\n",
       " \n",
       "        [[-1.50673636e-03,  4.40211151e+00, -4.49837322e-01,\n",
       "          -1.15342702e+00, -4.83549390e-01, -1.02590360e+00,\n",
       "          -1.07587287e+00, -8.06378586e-01,  4.48913143e-02,\n",
       "           9.19606836e-01],\n",
       "         [ 9.86143604e-03,  4.43352099e+00,  3.98759224e-02,\n",
       "          -1.12240974e+00, -1.48804168e+00, -1.64167049e+00,\n",
       "          -1.86302684e+00, -1.67114466e+00, -3.93567687e-02,\n",
       "           1.49620243e+00]],\n",
       " \n",
       "        [[ 9.86143604e-03,  4.43352099e+00,  3.98759224e-02,\n",
       "          -1.12240974e+00, -1.48804168e+00, -1.64167049e+00,\n",
       "          -1.86302684e+00, -1.67114466e+00, -3.93567687e-02,\n",
       "           1.49620243e+00],\n",
       "         [ 1.73133808e-03,  3.47549166e+00, -4.56534693e-01,\n",
       "          -1.34728506e+00, -1.08624476e+00, -1.33378705e+00,\n",
       "          -1.04009314e+00, -1.13066586e+00,  4.48913143e-02,\n",
       "           1.49620243e+00]],\n",
       " \n",
       "        [[ 1.73133808e-03,  3.47549166e+00, -4.56534693e-01,\n",
       "          -1.34728506e+00, -1.08624476e+00, -1.33378705e+00,\n",
       "          -1.04009314e+00, -1.13066586e+00,  4.48913143e-02,\n",
       "           1.49620243e+00],\n",
       "         [ 1.70639251e-01,  2.54926688e+00, -4.66821774e-01,\n",
       "          -2.04129684e+00, -1.58849091e+00, -9.23275785e-01,\n",
       "          -1.07587287e+00, -1.56304890e+00,  1.29139397e-01,\n",
       "           1.49620243e+00]],\n",
       " \n",
       "        [[ 1.70639251e-01,  2.54926688e+00, -4.66821774e-01,\n",
       "          -2.04129684e+00, -1.58849091e+00, -9.23275785e-01,\n",
       "          -1.07587287e+00, -1.56304890e+00,  1.29139397e-01,\n",
       "           1.49620243e+00],\n",
       "         [ 2.06004959e-01,  2.24359363e+00, -6.06308044e-02,\n",
       "          -9.40183182e-01, -1.38759245e+00, -2.05218176e+00,\n",
       "           4.98435093e-01, -1.45495314e+00, -4.60597184e-01,\n",
       "           9.19606836e-01]],\n",
       " \n",
       "        [[ 2.06004959e-01,  2.24359363e+00, -6.06308044e-02,\n",
       "          -9.40183182e-01, -1.38759245e+00, -2.05218176e+00,\n",
       "           4.98435093e-01, -1.45495314e+00, -4.60597184e-01,\n",
       "           9.19606836e-01],\n",
       "         [-3.20432525e-03,  2.81467805e+00,  6.50223905e-01,\n",
       "          -2.22908443e-01, -2.82650932e-01, -2.04881077e-01,\n",
       "          -2.88718886e-01, -5.90187067e-01,  2.97635564e-01,\n",
       "           9.19606836e-01]]])>,\n",
       " <tf.Tensor: id=12035212, shape=(7, 1), dtype=float64, numpy=\n",
       " array([[2.],\n",
       "        [0.],\n",
       "        [1.],\n",
       "        [0.],\n",
       "        [0.],\n",
       "        [0.],\n",
       "        [0.]])>)"
      ]
     },
     "execution_count": 1360,
     "metadata": {},
     "output_type": "execute_result"
    }
   ],
   "source": [
    "next(iter(pad_batch))"
   ]
  },
  {
   "cell_type": "code",
   "execution_count": 1361,
   "metadata": {
    "collapsed": true
   },
   "outputs": [],
   "source": [
    "def gen2():\n",
    "    for i in zip(x_te,y_te):\n",
    "        yield i"
   ]
  },
  {
   "cell_type": "code",
   "execution_count": 1362,
   "metadata": {
    "collapsed": true
   },
   "outputs": [],
   "source": [
    "m = tf.data.Dataset.from_generator(gen2, output_shapes=(tf.TensorShape([None,None]),tf.TensorShape([None])), \n",
    "                                   output_types=(tf.float64, tf.float64))"
   ]
  },
  {
   "cell_type": "code",
   "execution_count": 1363,
   "metadata": {
    "collapsed": true
   },
   "outputs": [],
   "source": [
    "test_pad_batch = m.batch(7)"
   ]
  },
  {
   "cell_type": "code",
   "execution_count": 1364,
   "metadata": {
    "scrolled": true
   },
   "outputs": [
    {
     "data": {
      "text/plain": [
       "(<tf.Tensor: id=12035274, shape=(7, 2, 10), dtype=float64, numpy=\n",
       " array([[[ 9.41299232e-02, -6.32192123e-01, -3.31064104e-01,\n",
       "           1.91947758e-01,  3.20044441e-01,  9.24024893e-01,\n",
       "          -2.17159434e-01,  1.24744085e+00, -1.23604852e-01,\n",
       "          -1.09847773e+00],\n",
       "         [-5.78282845e-02, -3.69538858e-01, -1.46532543e-01,\n",
       "           9.44116944e-01,  4.20493669e-01,  4.10885816e-01,\n",
       "          -1.81379707e-01,  1.24744085e+00,  7.18875979e-01,\n",
       "          -8.10179936e-01]],\n",
       " \n",
       "        [[-5.78282845e-02, -3.69538858e-01, -1.46532543e-01,\n",
       "           9.44116944e-01,  4.20493669e-01,  4.10885816e-01,\n",
       "          -1.81379707e-01,  1.24744085e+00,  7.18875979e-01,\n",
       "          -8.10179936e-01],\n",
       "         [-6.12365543e-02, -4.43424507e-01, -3.09495080e-01,\n",
       "           5.95172476e-01,  6.21392127e-01,  3.74554071e-04,\n",
       "          -6.10736423e-01,  1.67982388e+00,  7.18875979e-01,\n",
       "          -1.09847773e+00]],\n",
       " \n",
       "        [[-6.12365543e-02, -4.43424507e-01, -3.09495080e-01,\n",
       "           5.95172476e-01,  6.21392127e-01,  3.74554071e-04,\n",
       "          -6.10736423e-01,  1.67982388e+00,  7.18875979e-01,\n",
       "          -1.09847773e+00],\n",
       "         [-5.09026455e-02,  1.68167593e-02, -1.54342725e-01,\n",
       "           6.88224334e-01, -4.83549390e-01, -5.12764523e-01,\n",
       "          -1.43367013e+00,  7.06962048e-01,  6.34627896e-01,\n",
       "          -5.21882141e-01]],\n",
       " \n",
       "        [[-5.09026455e-02,  1.68167593e-02, -1.54342725e-01,\n",
       "           6.88224334e-01, -4.83549390e-01, -5.12764523e-01,\n",
       "          -1.43367013e+00,  7.06962048e-01,  6.34627896e-01,\n",
       "          -5.21882141e-01],\n",
       "         [-4.09440392e-02,  9.72850119e-02, -3.59494600e-01,\n",
       "           7.03732977e-01, -8.85346305e-01, -1.12853142e+00,\n",
       "          -2.07770520e+00,  1.66483250e-01,  5.50379813e-01,\n",
       "           5.47134502e-02]],\n",
       " \n",
       "        [[-4.09440392e-02,  9.72850119e-02, -3.59494600e-01,\n",
       "           7.03732977e-01, -8.85346305e-01, -1.12853142e+00,\n",
       "          -2.07770520e+00,  1.66483250e-01,  5.50379813e-01,\n",
       "           5.47134502e-02],\n",
       "         [-5.98619000e-02,  6.76216106e-02, -3.55561304e-01,\n",
       "          -4.98186856e-01, -4.83549390e-01, -2.04881077e-01,\n",
       "          -1.50522958e+00,  7.06962048e-01,  5.50379813e-01,\n",
       "          -5.21882141e-01]],\n",
       " \n",
       "        [[-5.98619000e-02,  6.76216106e-02, -3.55561304e-01,\n",
       "          -4.98186856e-01, -4.83549390e-01, -2.04881077e-01,\n",
       "          -1.50522958e+00,  7.06962048e-01,  5.50379813e-01,\n",
       "          -5.21882141e-01],\n",
       "         [ 5.44787852e-02, -1.05452162e-01, -3.56315143e-01,\n",
       "          -8.82025771e-01, -6.84447847e-01,  3.74554071e-04,\n",
       "          -1.11165259e+00,  3.82674769e-01, -3.93567687e-02,\n",
       "          -5.21882141e-01]],\n",
       " \n",
       "        [[ 5.44787852e-02, -1.05452162e-01, -3.56315143e-01,\n",
       "          -8.82025771e-01, -6.84447847e-01,  3.74554071e-04,\n",
       "          -1.11165259e+00,  3.82674769e-01, -3.93567687e-02,\n",
       "          -5.21882141e-01],\n",
       "         [ 1.30333516e-01, -2.90615609e-02, -5.57539282e-02,\n",
       "          -1.35417622e-02, -7.84897076e-01, -1.64167049e+00,\n",
       "          -1.68412821e+00, -2.65899788e-01, -4.60597184e-01,\n",
       "          -2.33584345e-01]]])>,\n",
       " <tf.Tensor: id=12035275, shape=(7, 1), dtype=float64, numpy=\n",
       " array([[1.],\n",
       "        [3.],\n",
       "        [1.],\n",
       "        [2.],\n",
       "        [1.],\n",
       "        [0.],\n",
       "        [4.]])>)"
      ]
     },
     "execution_count": 1364,
     "metadata": {},
     "output_type": "execute_result"
    }
   ],
   "source": [
    "next(iter(test_pad_batch))"
   ]
  },
  {
   "cell_type": "markdown",
   "metadata": {},
   "source": [
    "# 모델링"
   ]
  },
  {
   "cell_type": "code",
   "execution_count": 1365,
   "metadata": {
    "collapsed": true
   },
   "outputs": [],
   "source": [
    "inputs = tf.keras.layers.Input(shape=(2,10))"
   ]
  },
  {
   "cell_type": "code",
   "execution_count": 1366,
   "metadata": {
    "collapsed": true
   },
   "outputs": [],
   "source": [
    "out1 = tf.keras.layers.LSTM(64, activation = 'relu')(inputs)"
   ]
  },
  {
   "cell_type": "code",
   "execution_count": 1367,
   "metadata": {
    "collapsed": true
   },
   "outputs": [],
   "source": [
    "# out2 = tf.keras.layers.Dropout(0.5)(out1)"
   ]
  },
  {
   "cell_type": "code",
   "execution_count": 1368,
   "metadata": {
    "collapsed": true
   },
   "outputs": [],
   "source": [
    "out2 = tf.keras.layers.Dense(32)(out1)"
   ]
  },
  {
   "cell_type": "code",
   "execution_count": 1369,
   "metadata": {
    "collapsed": true
   },
   "outputs": [],
   "source": [
    "out3 = tf.keras.layers.Dense(1)(out2)"
   ]
  },
  {
   "cell_type": "code",
   "execution_count": 1370,
   "metadata": {
    "collapsed": true
   },
   "outputs": [],
   "source": [
    "model = tf.keras.Model(inputs = inputs, outputs = out3)"
   ]
  },
  {
   "cell_type": "code",
   "execution_count": 1371,
   "metadata": {
    "collapsed": true
   },
   "outputs": [],
   "source": [
    "model.compile(loss = 'mae',\n",
    "             optimizer = 'adam'\n",
    "             )"
   ]
  },
  {
   "cell_type": "code",
   "execution_count": 1372,
   "metadata": {},
   "outputs": [
    {
     "name": "stdout",
     "output_type": "stream",
     "text": [
      "Model: \"model_39\"\n",
      "_________________________________________________________________\n",
      "Layer (type)                 Output Shape              Param #   \n",
      "=================================================================\n",
      "input_40 (InputLayer)        [(None, 2, 10)]           0         \n",
      "_________________________________________________________________\n",
      "lstm_39 (LSTM)               (None, 64)                19200     \n",
      "_________________________________________________________________\n",
      "dense_78 (Dense)             (None, 32)                2080      \n",
      "_________________________________________________________________\n",
      "dense_79 (Dense)             (None, 1)                 33        \n",
      "=================================================================\n",
      "Total params: 21,313\n",
      "Trainable params: 21,313\n",
      "Non-trainable params: 0\n",
      "_________________________________________________________________\n"
     ]
    }
   ],
   "source": [
    "model.summary()"
   ]
  },
  {
   "cell_type": "code",
   "execution_count": 1373,
   "metadata": {
    "scrolled": true
   },
   "outputs": [
    {
     "name": "stdout",
     "output_type": "stream",
     "text": [
      "Epoch 1/300\n",
      "37/37 [==============================] - 2s 65ms/step - loss: 0.67400.679 - 2s 80ms/step - lo\n",
      "Epoch 2/300\n",
      "37/37 [==============================] - 1s 14ms/step - loss: 0.6755\n",
      "Epoch 3/300\n",
      "37/37 [==============================] - 1s 17ms/step - loss: 0.6421\n",
      "Epoch 4/300\n",
      "37/37 [==============================] - 1s 15ms/step - loss: 0.6242\n",
      "Epoch 5/300\n",
      "37/37 [==============================] - 1s 15ms/step - loss: 0.6188\n",
      "Epoch 6/300\n",
      "37/37 [==============================] - 1s 15ms/step - loss: 0.6015\n",
      "Epoch 7/300\n",
      "37/37 [==============================] - 1s 16ms/step - loss: 0.6068\n",
      "Epoch 8/300\n",
      "37/37 [==============================] - 1s 16ms/step - loss: 0.5973\n",
      "Epoch 9/300\n",
      "37/37 [==============================] - 1s 17ms/step - loss: 0.5867\n",
      "Epoch 10/300\n",
      "37/37 [==============================] - 1s 17ms/step - loss: 0.5733\n",
      "Epoch 11/300\n",
      "37/37 [==============================] - 0s 12ms/step - loss: 0.5777\n",
      "Epoch 12/300\n",
      "37/37 [==============================] - 1s 16ms/step - loss: 0.5567\n",
      "Epoch 13/300\n",
      "37/37 [==============================] - 1s 17ms/step - loss: 0.5642\n",
      "Epoch 14/300\n",
      "37/37 [==============================] - 0s 9ms/step - loss: 0.5515\n",
      "Epoch 15/300\n",
      "37/37 [==============================] - 1s 14ms/step - loss: 0.5688\n",
      "Epoch 16/300\n",
      "37/37 [==============================] - 0s 9ms/step - loss: 0.5534\n",
      "Epoch 17/300\n",
      "37/37 [==============================] - 1s 17ms/step - loss: 0.5379\n",
      "Epoch 18/300\n",
      "37/37 [==============================] - 1s 16ms/step - loss: 0.5423\n",
      "Epoch 19/300\n",
      "37/37 [==============================] - 1s 15ms/step - loss: 0.5300\n",
      "Epoch 20/300\n",
      "37/37 [==============================] - 1s 14ms/step - loss: 0.5369\n",
      "Epoch 21/300\n",
      "37/37 [==============================] - 1s 17ms/step - loss: 0.5465\n",
      "Epoch 22/300\n",
      "37/37 [==============================] - 0s 9ms/step - loss: 0.5356\n",
      "Epoch 23/300\n",
      "37/37 [==============================] - 1s 16ms/step - loss: 0.5490\n",
      "Epoch 24/300\n",
      "37/37 [==============================] - 1s 16ms/step - loss: 0.5092\n",
      "Epoch 25/300\n",
      "37/37 [==============================] - 1s 17ms/step - loss: 0.5197\n",
      "Epoch 26/300\n",
      "37/37 [==============================] - 0s 11ms/step - loss: 0.5091\n",
      "Epoch 27/300\n",
      "37/37 [==============================] - 0s 12ms/step - loss: 0.5279\n",
      "Epoch 28/300\n",
      "37/37 [==============================] - 0s 10ms/step - loss: 0.5082\n",
      "Epoch 29/300\n",
      "37/37 [==============================] - 1s 16ms/step - loss: 0.5263: 0s - loss: 0\n",
      "Epoch 30/300\n",
      "37/37 [==============================] - 0s 13ms/step - loss: 0.5339\n",
      "Epoch 31/300\n",
      "37/37 [==============================] - 1s 19ms/step - loss: 0.4877\n",
      "Epoch 32/300\n",
      "37/37 [==============================] - 1s 16ms/step - loss: 0.4889\n",
      "Epoch 33/300\n",
      "37/37 [==============================] - 0s 9ms/step - loss: 0.4803\n",
      "Epoch 34/300\n",
      "37/37 [==============================] - 1s 14ms/step - loss: 0.5308\n",
      "Epoch 35/300\n",
      "37/37 [==============================] - 1s 14ms/step - loss: 0.4939\n",
      "Epoch 36/300\n",
      "37/37 [==============================] - 1s 15ms/step - loss: 0.4757\n",
      "Epoch 37/300\n",
      "37/37 [==============================] - 1s 15ms/step - loss: 0.4472\n",
      "Epoch 38/300\n",
      "37/37 [==============================] - 0s 11ms/step - loss: 0.4772\n",
      "Epoch 39/300\n",
      "37/37 [==============================] - 1s 17ms/step - loss: 0.4795\n",
      "Epoch 40/300\n",
      "37/37 [==============================] - 0s 10ms/step - loss: 0.5015\n",
      "Epoch 41/300\n",
      "37/37 [==============================] - 1s 14ms/step - loss: 0.4390\n",
      "Epoch 42/300\n",
      "37/37 [==============================] - 1s 17ms/step - loss: 0.4384\n",
      "Epoch 43/300\n",
      "37/37 [==============================] - 1s 16ms/step - loss: 0.4371\n",
      "Epoch 44/300\n",
      "37/37 [==============================] - 1s 15ms/step - loss: 0.4446\n",
      "Epoch 45/300\n",
      "37/37 [==============================] - 1s 16ms/step - loss: 0.4458\n",
      "Epoch 46/300\n",
      "37/37 [==============================] - 1s 15ms/step - loss: 0.4380\n",
      "Epoch 47/300\n",
      "37/37 [==============================] - 1s 16ms/step - loss: 0.4337\n",
      "Epoch 48/300\n",
      "37/37 [==============================] - 1s 15ms/step - loss: 0.4183\n",
      "Epoch 49/300\n",
      "37/37 [==============================] - 0s 12ms/step - loss: 0.4125\n",
      "Epoch 50/300\n",
      "37/37 [==============================] - 1s 17ms/step - loss: 0.4016\n",
      "Epoch 51/300\n",
      "37/37 [==============================] - 0s 8ms/step - loss: 0.4515\n",
      "Epoch 52/300\n",
      "37/37 [==============================] - 0s 7ms/step - loss: 0.4668\n",
      "Epoch 53/300\n",
      "37/37 [==============================] - 1s 17ms/step - loss: 0.4607\n",
      "Epoch 54/300\n",
      "37/37 [==============================] - 0s 8ms/step - loss: 0.4249\n",
      "Epoch 55/300\n",
      "37/37 [==============================] - 1s 14ms/step - loss: 0.4321\n",
      "Epoch 56/300\n",
      "37/37 [==============================] - 0s 9ms/step - loss: 0.4024\n",
      "Epoch 57/300\n",
      "37/37 [==============================] - 1s 15ms/step - loss: 0.3769\n",
      "Epoch 58/300\n",
      "37/37 [==============================] - 1s 15ms/step - loss: 0.3619\n",
      "Epoch 59/300\n",
      "37/37 [==============================] - 1s 14ms/step - loss: 0.4217\n",
      "Epoch 60/300\n",
      "37/37 [==============================] - 0s 9ms/step - loss: 0.4313\n",
      "Epoch 61/300\n",
      "37/37 [==============================] - 1s 16ms/step - loss: 0.3946\n",
      "Epoch 62/300\n",
      "37/37 [==============================] - 1s 14ms/step - loss: 0.3715\n",
      "Epoch 63/300\n",
      "37/37 [==============================] - 1s 14ms/step - loss: 0.4120\n",
      "Epoch 64/300\n",
      "37/37 [==============================] - 0s 9ms/step - loss: 0.4138\n",
      "Epoch 65/300\n",
      "37/37 [==============================] - 0s 7ms/step - loss: 0.3768\n",
      "Epoch 66/300\n",
      "37/37 [==============================] - 0s 8ms/step - loss: 0.3834\n",
      "Epoch 67/300\n",
      "37/37 [==============================] - 0s 8ms/step - loss: 0.3755\n",
      "Epoch 68/300\n",
      "37/37 [==============================] - 1s 17ms/step - loss: 0.3507\n",
      "Epoch 69/300\n",
      "37/37 [==============================] - 0s 13ms/step - loss: 0.3463\n",
      "Epoch 70/300\n",
      "37/37 [==============================] - 0s 13ms/step - loss: 0.3539\n",
      "Epoch 71/300\n",
      "37/37 [==============================] - 0s 11ms/step - loss: 0.3316\n",
      "Epoch 72/300\n",
      "37/37 [==============================] - 1s 15ms/step - loss: 0.3417\n",
      "Epoch 73/300\n",
      "37/37 [==============================] - 1s 14ms/step - loss: 0.3800\n",
      "Epoch 74/300\n",
      "37/37 [==============================] - 1s 14ms/step - loss: 0.3688\n",
      "Epoch 75/300\n",
      "37/37 [==============================] - 0s 9ms/step - loss: 0.3690\n",
      "Epoch 76/300\n",
      "37/37 [==============================] - 1s 15ms/step - loss: 0.3433\n",
      "Epoch 77/300\n",
      "37/37 [==============================] - 1s 14ms/step - loss: 0.3614\n",
      "Epoch 78/300\n",
      "37/37 [==============================] - 1s 17ms/step - loss: 0.3413\n",
      "Epoch 79/300\n",
      "37/37 [==============================] - 0s 9ms/step - loss: 0.3177\n",
      "Epoch 80/300\n",
      "37/37 [==============================] - 1s 17ms/step - loss: 0.3326\n",
      "Epoch 81/300\n",
      "37/37 [==============================] - 0s 9ms/step - loss: 0.3535\n",
      "Epoch 82/300\n",
      "37/37 [==============================] - 1s 18ms/step - loss: 0.3392\n",
      "Epoch 83/300\n",
      "37/37 [==============================] - 0s 13ms/step - loss: 0.3707\n",
      "Epoch 84/300\n",
      "37/37 [==============================] - 1s 14ms/step - loss: 0.3590\n",
      "Epoch 85/300\n",
      "37/37 [==============================] - 1s 16ms/step - loss: 0.3916\n",
      "Epoch 86/300\n",
      "37/37 [==============================] - 1s 14ms/step - loss: 0.3298\n",
      "Epoch 87/300\n",
      "37/37 [==============================] - 1s 14ms/step - loss: 0.3173\n",
      "Epoch 88/300\n",
      "37/37 [==============================] - 1s 15ms/step - loss: 0.3448: 0s - loss: 0\n",
      "Epoch 89/300\n",
      "37/37 [==============================] - 1s 15ms/step - loss: 0.3797\n",
      "Epoch 90/300\n",
      "37/37 [==============================] - 0s 12ms/step - loss: 0.3259\n",
      "Epoch 91/300\n",
      "37/37 [==============================] - 0s 8ms/step - loss: 0.3649\n",
      "Epoch 92/300\n",
      "37/37 [==============================] - 0s 10ms/step - loss: 0.3032\n",
      "Epoch 93/300\n",
      "37/37 [==============================] - 0s 11ms/step - loss: 0.2817\n",
      "Epoch 94/300\n",
      "37/37 [==============================] - 1s 15ms/step - loss: 0.2771\n",
      "Epoch 95/300\n",
      "37/37 [==============================] - 1s 18ms/step - loss: 0.2907\n",
      "Epoch 96/300\n",
      "37/37 [==============================] - 1s 14ms/step - loss: 0.3242\n",
      "Epoch 97/300\n",
      "37/37 [==============================] - 1s 16ms/step - loss: 0.3216\n",
      "Epoch 98/300\n",
      "37/37 [==============================] - 0s 8ms/step - loss: 0.3820\n",
      "Epoch 99/300\n",
      "37/37 [==============================] - 1s 17ms/step - loss: 0.2975\n",
      "Epoch 100/300\n",
      "37/37 [==============================] - 1s 15ms/step - loss: 0.3621\n",
      "Epoch 101/300\n",
      "37/37 [==============================] - 0s 9ms/step - loss: 0.3122\n",
      "Epoch 102/300\n",
      "37/37 [==============================] - 1s 15ms/step - loss: 0.3799\n",
      "Epoch 103/300\n",
      "37/37 [==============================] - 0s 13ms/step - loss: 0.2799\n",
      "Epoch 104/300\n",
      "37/37 [==============================] - 1s 15ms/step - loss: 0.2744\n",
      "Epoch 105/300\n",
      "37/37 [==============================] - 1s 16ms/step - loss: 0.3249\n",
      "Epoch 106/300\n",
      "37/37 [==============================] - 1s 15ms/step - loss: 0.3800\n",
      "Epoch 107/300\n",
      "37/37 [==============================] - 1s 14ms/step - loss: 0.2747\n",
      "Epoch 108/300\n",
      "37/37 [==============================] - 1s 15ms/step - loss: 0.3603\n",
      "Epoch 109/300\n",
      "37/37 [==============================] - 1s 14ms/step - loss: 0.2698\n",
      "Epoch 110/300\n",
      "37/37 [==============================] - 1s 15ms/step - loss: 0.2616\n",
      "Epoch 111/300\n",
      "37/37 [==============================] - 0s 11ms/step - loss: 0.2895\n",
      "Epoch 112/300\n",
      "37/37 [==============================] - 1s 14ms/step - loss: 0.3393\n",
      "Epoch 113/300\n",
      "37/37 [==============================] - 1s 14ms/step - loss: 0.2995\n",
      "Epoch 114/300\n",
      "37/37 [==============================] - 1s 15ms/step - loss: 0.3584\n",
      "Epoch 115/300\n",
      "37/37 [==============================] - 1s 14ms/step - loss: 0.2796\n",
      "Epoch 116/300\n",
      "37/37 [==============================] - 1s 15ms/step - loss: 0.2891\n",
      "Epoch 117/300\n",
      "37/37 [==============================] - 0s 11ms/step - loss: 0.2942\n",
      "Epoch 118/300\n",
      "37/37 [==============================] - 0s 13ms/step - loss: 0.3576\n",
      "Epoch 119/300\n",
      "37/37 [==============================] - 0s 11ms/step - loss: 0.2673\n",
      "Epoch 120/300\n",
      "37/37 [==============================] - 0s 13ms/step - loss: 0.2539\n",
      "Epoch 121/300\n",
      "37/37 [==============================] - 0s 13ms/step - loss: 0.3572\n",
      "Epoch 122/300\n",
      "37/37 [==============================] - 1s 15ms/step - loss: 0.3933\n",
      "Epoch 123/300\n",
      "37/37 [==============================] - 0s 8ms/step - loss: 0.2557\n",
      "Epoch 124/300\n",
      "37/37 [==============================] - 1s 15ms/step - loss: 0.2891\n",
      "Epoch 125/300\n",
      "37/37 [==============================] - 0s 9ms/step - loss: 0.2958\n",
      "Epoch 126/300\n",
      "37/37 [==============================] - 1s 14ms/step - loss: 0.3255\n",
      "Epoch 127/300\n",
      "37/37 [==============================] - 0s 9ms/step - loss: 0.2623\n",
      "Epoch 128/300\n",
      "37/37 [==============================] - 1s 14ms/step - loss: 0.2794\n",
      "Epoch 129/300\n",
      "37/37 [==============================] - 0s 9ms/step - loss: 0.2768\n",
      "Epoch 130/300\n",
      "37/37 [==============================] - 1s 14ms/step - loss: 0.3360\n",
      "Epoch 131/300\n",
      "37/37 [==============================] - 0s 11ms/step - loss: 0.2489\n",
      "Epoch 132/300\n",
      "37/37 [==============================] - 0s 12ms/step - loss: 0.2808\n",
      "Epoch 133/300\n",
      "37/37 [==============================] - 0s 13ms/step - loss: 0.2807\n",
      "Epoch 134/300\n",
      "37/37 [==============================] - 0s 9ms/step - loss: 0.3186\n",
      "Epoch 135/300\n",
      "37/37 [==============================] - 1s 14ms/step - loss: 0.2297\n",
      "Epoch 136/300\n",
      "37/37 [==============================] - 1s 15ms/step - loss: 0.2293\n",
      "Epoch 137/300\n",
      "37/37 [==============================] - 0s 13ms/step - loss: 0.2822\n",
      "Epoch 138/300\n",
      "37/37 [==============================] - 1s 16ms/step - loss: 0.2888\n",
      "Epoch 139/300\n",
      "37/37 [==============================] - 0s 12ms/step - loss: 0.3526\n",
      "Epoch 140/300\n",
      "37/37 [==============================] - 1s 15ms/step - loss: 0.2413\n",
      "Epoch 141/300\n",
      "37/37 [==============================] - 1s 14ms/step - loss: 0.2281\n",
      "Epoch 142/300\n",
      "37/37 [==============================] - 0s 11ms/step - loss: 0.2477\n",
      "Epoch 143/300\n",
      "37/37 [==============================] - 0s 11ms/step - loss: 0.2814\n",
      "Epoch 144/300\n",
      "37/37 [==============================] - 1s 15ms/step - loss: 0.2701\n",
      "Epoch 145/300\n",
      "37/37 [==============================] - 0s 9ms/step - loss: 0.3165\n",
      "Epoch 146/300\n",
      "37/37 [==============================] - 1s 16ms/step - loss: 0.2351\n",
      "Epoch 147/300\n",
      "37/37 [==============================] - 0s 9ms/step - loss: 0.2268\n",
      "Epoch 148/300\n",
      "37/37 [==============================] - 1s 14ms/step - loss: 0.2589\n",
      "Epoch 149/300\n",
      "37/37 [==============================] - 0s 13ms/step - loss: 0.3465\n",
      "Epoch 150/300\n",
      "37/37 [==============================] - 1s 15ms/step - loss: 0.2406\n",
      "Epoch 151/300\n",
      "37/37 [==============================] - 0s 9ms/step - loss: 0.2534\n",
      "Epoch 152/300\n",
      "37/37 [==============================] - 1s 14ms/step - loss: 0.2423\n",
      "Epoch 153/300\n",
      "37/37 [==============================] - 0s 9ms/step - loss: 0.2596\n",
      "Epoch 154/300\n",
      "37/37 [==============================] - 1s 14ms/step - loss: 0.2449\n",
      "Epoch 155/300\n",
      "37/37 [==============================] - 1s 14ms/step - loss: 0.3297\n",
      "Epoch 156/300\n",
      "37/37 [==============================] - 1s 15ms/step - loss: 0.2293\n",
      "Epoch 157/300\n",
      "37/37 [==============================] - 0s 4ms/step - loss: 0.2354\n",
      "Epoch 158/300\n",
      "37/37 [==============================] - 0s 9ms/step - loss: 0.2818\n",
      "Epoch 159/300\n",
      "37/37 [==============================] - 0s 10ms/step - loss: 0.3355\n",
      "Epoch 160/300\n",
      "37/37 [==============================] - 1s 14ms/step - loss: 0.2130\n",
      "Epoch 161/300\n",
      "37/37 [==============================] - 1s 14ms/step - loss: 0.2514\n",
      "Epoch 162/300\n",
      "37/37 [==============================] - 1s 15ms/step - loss: 0.2581\n",
      "Epoch 163/300\n",
      "37/37 [==============================] - 0s 13ms/step - loss: 0.3205\n",
      "Epoch 164/300\n",
      "37/37 [==============================] - 1s 14ms/step - loss: 0.2235\n",
      "Epoch 165/300\n",
      "37/37 [==============================] - 0s 6ms/step - loss: 0.2170\n",
      "Epoch 166/300\n",
      "37/37 [==============================] - 0s 9ms/step - loss: 0.2288\n",
      "Epoch 167/300\n",
      "37/37 [==============================] - 1s 14ms/step - loss: 0.3212\n",
      "Epoch 168/300\n",
      "37/37 [==============================] - 1s 15ms/step - loss: 0.2162\n",
      "Epoch 169/300\n",
      "37/37 [==============================] - 0s 10ms/step - loss: 0.2595\n",
      "Epoch 170/300\n",
      "37/37 [==============================] - 1s 14ms/step - loss: 0.2558\n",
      "Epoch 171/300\n",
      "37/37 [==============================] - 1s 14ms/step - loss: 0.3151\n",
      "Epoch 172/300\n",
      "37/37 [==============================] - 0s 7ms/step - loss: 0.2305\n",
      "Epoch 173/300\n",
      "37/37 [==============================] - 0s 12ms/step - loss: 0.2436\n",
      "Epoch 174/300\n",
      "37/37 [==============================] - 1s 14ms/step - loss: 0.2104\n",
      "Epoch 175/300\n",
      "37/37 [==============================] - 0s 13ms/step - loss: 0.2981\n",
      "Epoch 176/300\n",
      "37/37 [==============================] - 0s 9ms/step - loss: 0.2264\n",
      "Epoch 177/300\n",
      "37/37 [==============================] - 0s 11ms/step - loss: 0.2720\n",
      "Epoch 178/300\n",
      "37/37 [==============================] - 1s 14ms/step - loss: 0.2720\n",
      "Epoch 179/300\n",
      "37/37 [==============================] - 0s 9ms/step - loss: 0.2813\n",
      "Epoch 180/300\n",
      "37/37 [==============================] - 1s 16ms/step - loss: 0.2418\n",
      "Epoch 181/300\n",
      "37/37 [==============================] - 1s 16ms/step - loss: 0.3005\n",
      "Epoch 182/300\n",
      "37/37 [==============================] - 0s 9ms/step - loss: 0.2049\n",
      "Epoch 183/300\n",
      "37/37 [==============================] - 1s 15ms/step - loss: 0.2042\n",
      "Epoch 184/300\n",
      "37/37 [==============================] - 0s 13ms/step - loss: 0.2230\n",
      "Epoch 185/300\n",
      "37/37 [==============================] - 0s 13ms/step - loss: 0.2659\n",
      "Epoch 186/300\n",
      "37/37 [==============================] - 0s 13ms/step - loss: 0.3028\n",
      "Epoch 187/300\n",
      "37/37 [==============================] - 0s 12ms/step - loss: 0.2082\n",
      "Epoch 188/300\n",
      "37/37 [==============================] - 1s 14ms/step - loss: 0.2231\n",
      "Epoch 189/300\n",
      "37/37 [==============================] - 1s 15ms/step - loss: 0.2428\n",
      "Epoch 190/300\n",
      "37/37 [==============================] - 1s 15ms/step - loss: 0.2373\n",
      "Epoch 191/300\n",
      "37/37 [==============================] - 1s 15ms/step - loss: 0.3073\n",
      "Epoch 192/300\n",
      "37/37 [==============================] - 1s 16ms/step - loss: 0.2010\n",
      "Epoch 193/300\n",
      "37/37 [==============================] - 0s 11ms/step - loss: 0.2108\n",
      "Epoch 194/300\n",
      "37/37 [==============================] - 1s 15ms/step - loss: 0.2307\n",
      "Epoch 195/300\n",
      "37/37 [==============================] - 1s 15ms/step - loss: 0.2465\n",
      "Epoch 196/300\n",
      "37/37 [==============================] - 0s 13ms/step - loss: 0.3008\n",
      "Epoch 197/300\n",
      "37/37 [==============================] - 1s 14ms/step - loss: 0.2045\n",
      "Epoch 198/300\n",
      "37/37 [==============================] - 1s 16ms/step - loss: 0.1959\n",
      "Epoch 199/300\n"
     ]
    },
    {
     "name": "stdout",
     "output_type": "stream",
     "text": [
      "37/37 [==============================] - 1s 14ms/step - loss: 0.2116\n",
      "Epoch 200/300\n",
      "37/37 [==============================] - 1s 15ms/step - loss: 0.2156\n",
      "Epoch 201/300\n",
      "37/37 [==============================] - 1s 14ms/step - loss: 0.2653\n",
      "Epoch 202/300\n",
      "37/37 [==============================] - 1s 14ms/step - loss: 0.2043\n",
      "Epoch 203/300\n",
      "37/37 [==============================] - 1s 15ms/step - loss: 0.2092\n",
      "Epoch 204/300\n",
      "37/37 [==============================] - 1s 14ms/step - loss: 0.2285\n",
      "Epoch 205/300\n",
      "37/37 [==============================] - 0s 13ms/step - loss: 0.2600\n",
      "Epoch 206/300\n",
      "37/37 [==============================] - 0s 8ms/step - loss: 0.2016\n",
      "Epoch 207/300\n",
      "37/37 [==============================] - 1s 15ms/step - loss: 0.2087\n",
      "Epoch 208/300\n",
      "37/37 [==============================] - 1s 14ms/step - loss: 0.2276\n",
      "Epoch 209/300\n",
      "37/37 [==============================] - 1s 15ms/step - loss: 0.2561\n",
      "Epoch 210/300\n",
      "37/37 [==============================] - 1s 15ms/step - loss: 0.1930\n",
      "Epoch 211/300\n",
      "37/37 [==============================] - 0s 12ms/step - loss: 0.2486\n",
      "Epoch 212/300\n",
      "37/37 [==============================] - 0s 9ms/step - loss: 0.2116\n",
      "Epoch 213/300\n",
      "37/37 [==============================] - 0s 12ms/step - loss: 0.2602\n",
      "Epoch 214/300\n",
      "37/37 [==============================] - 1s 14ms/step - loss: 0.1889\n",
      "Epoch 215/300\n",
      "37/37 [==============================] - 0s 13ms/step - loss: 0.1971\n",
      "Epoch 216/300\n",
      "37/37 [==============================] - 0s 10ms/step - loss: 0.2384\n",
      "Epoch 217/300\n",
      "37/37 [==============================] - 1s 14ms/step - loss: 0.2173\n",
      "Epoch 218/300\n",
      "37/37 [==============================] - 0s 11ms/step - loss: 0.2972\n",
      "Epoch 219/300\n",
      "37/37 [==============================] - 0s 8ms/step - loss: 0.1904\n",
      "Epoch 220/300\n",
      "37/37 [==============================] - 0s 8ms/step - loss: 0.1955\n",
      "Epoch 221/300\n",
      "37/37 [==============================] - 1s 14ms/step - loss: 0.2262\n",
      "Epoch 222/300\n",
      "37/37 [==============================] - 1s 14ms/step - loss: 0.2290\n",
      "Epoch 223/300\n",
      "37/37 [==============================] - 1s 14ms/step - loss: 0.2701\n",
      "Epoch 224/300\n",
      "37/37 [==============================] - 1s 16ms/step - loss: 0.2022\n",
      "Epoch 225/300\n",
      "37/37 [==============================] - 1s 15ms/step - loss: 0.2264\n",
      "Epoch 226/300\n",
      "37/37 [==============================] - 1s 14ms/step - loss: 0.2580\n",
      "Epoch 227/300\n",
      "37/37 [==============================] - 1s 15ms/step - loss: 0.2911\n",
      "Epoch 228/300\n",
      "37/37 [==============================] - 0s 13ms/step - loss: 0.1931\n",
      "Epoch 229/300\n",
      "37/37 [==============================] - 1s 15ms/step - loss: 0.2167\n",
      "Epoch 230/300\n",
      "37/37 [==============================] - 1s 15ms/step - loss: 0.2442\n",
      "Epoch 231/300\n",
      "37/37 [==============================] - 0s 10ms/step - loss: 0.2701\n",
      "Epoch 232/300\n",
      "37/37 [==============================] - 1s 15ms/step - loss: 0.1919\n",
      "Epoch 233/300\n",
      "37/37 [==============================] - 0s 8ms/step - loss: 0.2567\n",
      "Epoch 234/300\n",
      "37/37 [==============================] - 0s 13ms/step - loss: 0.2027\n",
      "Epoch 235/300\n",
      "37/37 [==============================] - 1s 14ms/step - loss: 0.2311\n",
      "Epoch 236/300\n",
      "37/37 [==============================] - 1s 15ms/step - loss: 0.2303\n",
      "Epoch 237/300\n",
      "37/37 [==============================] - 0s 9ms/step - loss: 0.2740\n",
      "Epoch 238/300\n",
      "37/37 [==============================] - 0s 9ms/step - loss: 0.1885A: 0s - loss: 0.\n",
      "Epoch 239/300\n",
      "37/37 [==============================] - 0s 13ms/step - loss: 0.2595\n",
      "Epoch 240/300\n",
      "37/37 [==============================] - 1s 15ms/step - loss: 0.1948\n",
      "Epoch 241/300\n",
      "37/37 [==============================] - 1s 14ms/step - loss: 0.2583\n",
      "Epoch 242/300\n",
      "37/37 [==============================] - 1s 15ms/step - loss: 0.1833\n",
      "Epoch 243/300\n",
      "37/37 [==============================] - 0s 12ms/step - loss: 0.2761\n",
      "Epoch 244/300\n",
      "37/37 [==============================] - 1s 15ms/step - loss: 0.1866\n",
      "Epoch 245/300\n",
      "37/37 [==============================] - 0s 12ms/step - loss: 0.2155\n",
      "Epoch 246/300\n",
      "37/37 [==============================] - 0s 14ms/step - loss: 0.2010\n",
      "Epoch 247/300\n",
      "37/37 [==============================] - 1s 14ms/step - loss: 0.2513\n",
      "Epoch 248/300\n",
      "37/37 [==============================] - 0s 8ms/step - loss: 0.1995\n",
      "Epoch 249/300\n",
      "37/37 [==============================] - 1s 15ms/step - loss: 0.2807\n",
      "Epoch 250/300\n",
      "37/37 [==============================] - 1s 15ms/step - loss: 0.1822\n",
      "Epoch 251/300\n",
      "37/37 [==============================] - 0s 10ms/step - loss: 0.2344\n",
      "Epoch 252/300\n",
      "37/37 [==============================] - 1s 14ms/step - loss: 0.2065\n",
      "Epoch 253/300\n",
      "37/37 [==============================] - 1s 14ms/step - loss: 0.2962\n",
      "Epoch 254/300\n",
      "37/37 [==============================] - 1s 14ms/step - loss: 0.1732: 0s - loss: 0\n",
      "Epoch 255/300\n",
      "37/37 [==============================] - 1s 15ms/step - loss: 0.2130\n",
      "Epoch 256/300\n",
      "37/37 [==============================] - 1s 15ms/step - loss: 0.2431\n",
      "Epoch 257/300\n",
      "37/37 [==============================] - 1s 16ms/step - loss: 0.2712\n",
      "Epoch 258/300\n",
      "37/37 [==============================] - 0s 9ms/step - loss: 0.1819\n",
      "Epoch 259/300\n",
      "37/37 [==============================] - 1s 14ms/step - loss: 0.2469\n",
      "Epoch 260/300\n",
      "37/37 [==============================] - 1s 15ms/step - loss: 0.1835\n",
      "Epoch 261/300\n",
      "37/37 [==============================] - 0s 10ms/step - loss: 0.1995\n",
      "Epoch 262/300\n",
      "37/37 [==============================] - 1s 15ms/step - loss: 0.1810\n",
      "Epoch 263/300\n",
      "37/37 [==============================] - 0s 13ms/step - loss: 0.2205\n",
      "Epoch 264/300\n",
      "37/37 [==============================] - 1s 15ms/step - loss: 0.2030\n",
      "Epoch 265/300\n",
      "37/37 [==============================] - 1s 14ms/step - loss: 0.2635\n",
      "Epoch 266/300\n",
      "37/37 [==============================] - 1s 17ms/step - loss: 0.1821\n",
      "Epoch 267/300\n",
      "37/37 [==============================] - 0s 8ms/step - loss: 0.2060\n",
      "Epoch 268/300\n",
      "37/37 [==============================] - 0s 8ms/step - loss: 0.2153\n",
      "Epoch 269/300\n",
      "37/37 [==============================] - 1s 15ms/step - loss: 0.2677\n",
      "Epoch 270/300\n",
      "37/37 [==============================] - 0s 8ms/step - loss: 0.1886\n",
      "Epoch 271/300\n",
      "37/37 [==============================] - 1s 16ms/step - loss: 0.2117\n",
      "Epoch 272/300\n",
      "37/37 [==============================] - 1s 15ms/step - loss: 0.2415\n",
      "Epoch 273/300\n",
      "37/37 [==============================] - 0s 12ms/step - loss: 0.2302\n",
      "Epoch 274/300\n",
      "37/37 [==============================] - 1s 14ms/step - loss: 0.1951\n",
      "Epoch 275/300\n",
      "37/37 [==============================] - 0s 11ms/step - loss: 0.2389\n",
      "Epoch 276/300\n",
      "37/37 [==============================] - 1s 17ms/step - loss: 0.1779\n",
      "Epoch 277/300\n",
      "37/37 [==============================] - 1s 14ms/step - loss: 0.1831\n",
      "Epoch 278/300\n",
      "37/37 [==============================] - 0s 12ms/step - loss: 0.2156\n",
      "Epoch 279/300\n",
      "37/37 [==============================] - 1s 14ms/step - loss: 0.2241\n",
      "Epoch 280/300\n",
      "37/37 [==============================] - 1s 16ms/step - loss: 0.1817\n",
      "Epoch 281/300\n",
      "37/37 [==============================] - 1s 15ms/step - loss: 0.2230\n",
      "Epoch 282/300\n",
      "37/37 [==============================] - 1s 14ms/step - loss: 0.1844\n",
      "Epoch 283/300\n",
      "37/37 [==============================] - 0s 11ms/step - loss: 0.1845\n",
      "Epoch 284/300\n",
      "37/37 [==============================] - 1s 14ms/step - loss: 0.1938\n",
      "Epoch 285/300\n",
      "37/37 [==============================] - 0s 8ms/step - loss: 0.1960\n",
      "Epoch 286/300\n",
      "37/37 [==============================] - 1s 14ms/step - loss: 0.1982\n",
      "Epoch 287/300\n",
      "37/37 [==============================] - 0s 8ms/step - loss: 0.1850\n",
      "Epoch 288/300\n",
      "37/37 [==============================] - 0s 8ms/step - loss: 0.1981\n",
      "Epoch 289/300\n",
      "37/37 [==============================] - 0s 11ms/step - loss: 0.1693\n",
      "Epoch 290/300\n",
      "37/37 [==============================] - 1s 14ms/step - loss: 0.2086\n",
      "Epoch 291/300\n",
      "37/37 [==============================] - 1s 18ms/step - loss: 0.1995\n",
      "Epoch 292/300\n",
      "37/37 [==============================] - 1s 19ms/step - loss: 0.2359\n",
      "Epoch 293/300\n",
      "37/37 [==============================] - 0s 12ms/step - loss: 0.1723\n",
      "Epoch 294/300\n",
      "37/37 [==============================] - 1s 15ms/step - loss: 0.2117\n",
      "Epoch 295/300\n",
      "37/37 [==============================] - 1s 17ms/step - loss: 0.1952\n",
      "Epoch 296/300\n",
      "37/37 [==============================] - 1s 16ms/step - loss: 0.2254\n",
      "Epoch 297/300\n",
      "37/37 [==============================] - 1s 18ms/step - loss: 0.1768\n",
      "Epoch 298/300\n",
      "37/37 [==============================] - 1s 14ms/step - loss: 0.2000\n",
      "Epoch 299/300\n",
      "37/37 [==============================] - 1s 17ms/step - loss: 0.2180\n",
      "Epoch 300/300\n",
      "37/37 [==============================] - 1s 16ms/step - loss: 0.2376\n"
     ]
    }
   ],
   "source": [
    "history = model.fit(pad_batch, epochs=300)"
   ]
  },
  {
   "cell_type": "code",
   "execution_count": 1374,
   "metadata": {
    "collapsed": true
   },
   "outputs": [],
   "source": [
    "y_pred = model.predict(x_te)\n",
    "y_pred = pd.DataFrame(y_pred)"
   ]
  },
  {
   "cell_type": "code",
   "execution_count": 1375,
   "metadata": {
    "collapsed": true
   },
   "outputs": [],
   "source": [
    "y_real = y_data[261:]\n",
    "y_real = pd.DataFrame(y_real)"
   ]
  },
  {
   "cell_type": "markdown",
   "metadata": {},
   "source": [
    "# 실제값과 예측값 비교"
   ]
  },
  {
   "cell_type": "code",
   "execution_count": 1376,
   "metadata": {},
   "outputs": [
    {
     "data": {
      "text/plain": [
       "<matplotlib.legend.Legend at 0x1a32311cf28>"
      ]
     },
     "execution_count": 1376,
     "metadata": {},
     "output_type": "execute_result"
    },
    {
     "data": {
      "image/png": "[encoded data removed]",
      "text/plain": [
       "<matplotlib.figure.Figure at 0x1a31f6cdfd0>"
      ]
     },
     "metadata": {},
     "output_type": "display_data"
    }
   ],
   "source": [
    "plt.figure(2)\n",
    "plt.plot(y_pred, 'r')\n",
    "plt.plot(y_real, 'b')\n",
    "plt.legend(['predict','real'])"
   ]
  },
  {
   "cell_type": "code",
   "execution_count": 1377,
   "metadata": {},
   "outputs": [
    {
     "name": "stdout",
     "output_type": "stream",
     "text": [
      "MAE:  1.747879615196815\n"
     ]
    }
   ],
   "source": [
    "from sklearn import metrics\n",
    "score = metrics.mean_absolute_error(y_real, y_pred)\n",
    "print('MAE: ',score)"
   ]
  },
  {
   "cell_type": "code",
   "execution_count": 1378,
   "metadata": {},
   "outputs": [
    {
     "data": {
      "text/html": [
       "<div>\n",
       "<style>\n",
       "    .dataframe thead tr:only-child th {\n",
       "        text-align: right;\n",
       "    }\n",
       "\n",
       "    .dataframe thead th {\n",
       "        text-align: left;\n",
       "    }\n",
       "\n",
       "    .dataframe tbody tr th {\n",
       "        vertical-align: top;\n",
       "    }\n",
       "</style>\n",
       "<table border=\"1\" class=\"dataframe\">\n",
       "  <thead>\n",
       "    <tr style=\"text-align: right;\">\n",
       "      <th></th>\n",
       "      <th>예측값</th>\n",
       "      <th>실제값</th>\n",
       "    </tr>\n",
       "  </thead>\n",
       "  <tbody>\n",
       "    <tr>\n",
       "      <th>0</th>\n",
       "      <td>0.456988</td>\n",
       "      <td>1</td>\n",
       "    </tr>\n",
       "    <tr>\n",
       "      <th>1</th>\n",
       "      <td>1.042819</td>\n",
       "      <td>3</td>\n",
       "    </tr>\n",
       "    <tr>\n",
       "      <th>2</th>\n",
       "      <td>1.662462</td>\n",
       "      <td>1</td>\n",
       "    </tr>\n",
       "    <tr>\n",
       "      <th>3</th>\n",
       "      <td>1.057544</td>\n",
       "      <td>2</td>\n",
       "    </tr>\n",
       "    <tr>\n",
       "      <th>4</th>\n",
       "      <td>1.007869</td>\n",
       "      <td>1</td>\n",
       "    </tr>\n",
       "    <tr>\n",
       "      <th>5</th>\n",
       "      <td>0.976864</td>\n",
       "      <td>0</td>\n",
       "    </tr>\n",
       "    <tr>\n",
       "      <th>6</th>\n",
       "      <td>1.043435</td>\n",
       "      <td>4</td>\n",
       "    </tr>\n",
       "    <tr>\n",
       "      <th>7</th>\n",
       "      <td>0.798805</td>\n",
       "      <td>5</td>\n",
       "    </tr>\n",
       "    <tr>\n",
       "      <th>8</th>\n",
       "      <td>1.278913</td>\n",
       "      <td>1</td>\n",
       "    </tr>\n",
       "    <tr>\n",
       "      <th>9</th>\n",
       "      <td>0.716125</td>\n",
       "      <td>1</td>\n",
       "    </tr>\n",
       "    <tr>\n",
       "      <th>10</th>\n",
       "      <td>0.420330</td>\n",
       "      <td>2</td>\n",
       "    </tr>\n",
       "    <tr>\n",
       "      <th>11</th>\n",
       "      <td>0.276161</td>\n",
       "      <td>8</td>\n",
       "    </tr>\n",
       "    <tr>\n",
       "      <th>12</th>\n",
       "      <td>3.391464</td>\n",
       "      <td>4</td>\n",
       "    </tr>\n",
       "  </tbody>\n",
       "</table>\n",
       "</div>"
      ],
      "text/plain": [
       "         예측값  실제값\n",
       "0   0.456988    1\n",
       "1   1.042819    3\n",
       "2   1.662462    1\n",
       "3   1.057544    2\n",
       "4   1.007869    1\n",
       "5   0.976864    0\n",
       "6   1.043435    4\n",
       "7   0.798805    5\n",
       "8   1.278913    1\n",
       "9   0.716125    1\n",
       "10  0.420330    2\n",
       "11  0.276161    8\n",
       "12  3.391464    4"
      ]
     },
     "execution_count": 1378,
     "metadata": {},
     "output_type": "execute_result"
    }
   ],
   "source": [
    "# 예측값과 실제값 확인 \n",
    "a = pd.concat([y_pred, y_real], axis = 1)\n",
    "a.columns = ['예측값','실제값']\n",
    "a"
   ]
  },
  {
   "cell_type": "code",
   "execution_count": null,
   "metadata": {
    "collapsed": true
   },
   "outputs": [],
   "source": []
  },
  {
   "cell_type": "code",
   "execution_count": null,
   "metadata": {
    "collapsed": true
   },
   "outputs": [],
   "source": []
  },
  {
   "cell_type": "code",
   "execution_count": null,
   "metadata": {
    "collapsed": true
   },
   "outputs": [],
   "source": []
  },
  {
   "cell_type": "code",
   "execution_count": null,
   "metadata": {
    "collapsed": true
   },
   "outputs": [],
   "source": []
  }
 ],
 "metadata": {
  "kernelspec": {
   "display_name": "Python 3 (ipykernel)",
   "language": "python",
   "name": "python3"
  },
  "language_info": {
   "codemirror_mode": {
    "name": "ipython",
    "version": 3
   },
   "file_extension": ".py",
   "mimetype": "text/x-python",
   "name": "python",
   "nbconvert_exporter": "python",
   "pygments_lexer": "ipython3",
   "version": "3.8.12"
  }
 },
 "nbformat": 4,
 "nbformat_minor": 2
}
